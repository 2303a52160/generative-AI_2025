{
  "nbformat": 4,
  "nbformat_minor": 0,
  "metadata": {
    "colab": {
      "provenance": [],
      "authorship_tag": "ABX9TyMIWotsFDj6M7/CtZjEZI5t",
      "include_colab_link": true
    },
    "kernelspec": {
      "name": "python3",
      "display_name": "Python 3"
    },
    "language_info": {
      "name": "python"
    }
  },
  "cells": [
    {
      "cell_type": "markdown",
      "metadata": {
        "id": "view-in-github",
        "colab_type": "text"
      },
      "source": [
        "<a href=\"https://colab.research.google.com/github/2303a52160/generative-AI_2025/blob/main/2303A52160_WEEK5_ASSIGNMENT_5_3.ipynb\" target=\"_parent\"><img src=\"https://colab.research.google.com/assets/colab-badge.svg\" alt=\"Open In Colab\"/></a>"
      ]
    },
    {
      "cell_type": "code",
      "source": [
        "import numpy as np\n",
        "\n",
        "def sigmoid(x):\n",
        "    return 1 / (1 + np.exp(-x))\n",
        "\n",
        "def sigmoid_derivative(x):\n",
        "    return x * (1 - x)\n",
        "\n",
        "def mse(y_true, y_pred):\n",
        "    return np.mean((y_true - y_pred) ** 2)\n",
        "\n",
        "data = np.array([[1, 2, 0.4140], [2, 3, 0.4611], [5, 6, 0.5501], [6, 7, 0.5656], [7, 8, 0.5765], [8, 9, 0.5840]])\n",
        "X_train, y_train = data[:, :2], data[:, 2:]\n",
        "test_data = np.array([[3, 4, 0.4992], [4, 5, 0.5285]])\n",
        "X_test, y_test = test_data[:, :2], test_data[:, 2:]\n",
        "\n",
        "np.random.seed(0)\n",
        "W1 = np.random.rand(2, 3)\n",
        "b1 = np.random.rand(1, 3)\n",
        "W2 = np.random.rand(3, 1)\n",
        "b2 = np.random.rand(1, 1)\n",
        "\n",
        "learning_rate = 0.1\n",
        "epochs = 5000\n",
        "\n",
        "for _ in range(epochs):\n",
        "    hidden_input = np.dot(X_train, W1) + b1\n",
        "    hidden_output = sigmoid(hidden_input)\n",
        "    final_input = np.dot(hidden_output, W2) + b2\n",
        "    final_output = final_input\n",
        "    error = y_train - final_output\n",
        "    d_output = error\n",
        "    d_hidden = np.dot(d_output, W2.T) * sigmoid_derivative(hidden_output)\n",
        "    W2 += np.dot(hidden_output.T, d_output) * learning_rate\n",
        "    b2 += np.sum(d_output, axis=0, keepdims=True) * learning_rate\n",
        "    W1 += np.dot(X_train.T, d_hidden) * learning_rate\n",
        "    b1 += np.sum(d_hidden, axis=0, keepdims=True) * learning_rate\n",
        "\n",
        "train_predictions = np.dot(sigmoid(np.dot(X_train, W1) + b1), W2) + b2\n",
        "test_predictions = np.dot(sigmoid(np.dot(X_test, W1) + b1), W2) + b2\n",
        "print(mse(y_train, train_predictions))\n",
        "print(mse(y_test, test_predictions))\n",
        "\n",
        "x1, x2 = map(float, input().split())\n",
        "user_input = np.array([[x1, x2]])\n",
        "user_output = np.dot(sigmoid(np.dot(user_input, W1) + b1), W2) + b2\n",
        "print(user_output[0][0])"
      ],
      "metadata": {
        "colab": {
          "base_uri": "https://localhost:8080/"
        },
        "id": "aKCCOQy0_q-D",
        "outputId": "9cf2a44f-e5c2-4baf-de9f-008cc698ba05"
      },
      "execution_count": 2,
      "outputs": [
        {
          "output_type": "stream",
          "name": "stdout",
          "text": [
            "8.787942876749573e-06\n",
            "9.624128530964148e-06\n",
            "0.5 0.4\n",
            "0.3030713160540085\n"
          ]
        }
      ]
    }
  ]
}